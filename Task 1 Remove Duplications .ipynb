{
 "cells": [
  {
   "cell_type": "markdown",
   "id": "56754f67",
   "metadata": {
    "papermill": {
     "duration": 0.009328,
     "end_time": "2023-11-03T04:06:31.123469",
     "exception": false,
     "start_time": "2023-11-03T04:06:31.114141",
     "status": "completed"
    },
    "tags": []
   },
   "source": [
    "# Task 1: Data Preprocessing and removing duplicate values from Dataset\n"
   ]
  },
  {
   "cell_type": "markdown",
   "id": "560b2af7",
   "metadata": {},
   "source": [
    "### AIM : To remove duplicate values from the dataset."
   ]
  },
  {
   "cell_type": "markdown",
   "id": "b8dc6316",
   "metadata": {
    "papermill": {
     "duration": 0.008264,
     "end_time": "2023-11-03T04:06:31.141134",
     "exception": false,
     "start_time": "2023-11-03T04:06:31.132870",
     "status": "completed"
    },
    "tags": []
   },
   "source": [
    "## About the Dataset\n",
    "\n",
    "The data used in this notebook is \"Airbnb Open Data\". \n",
    "\n",
    "### Background\n",
    "\n",
    "It is a dataset about Airbnb, Inc., which is an American company based in San Francisco and founded in 2008, that operates an online marketplace for short- and long-term homestays and experiences. The company acts as a broker and charges a commission from each booking.\n",
    "\n",
    "### Content\n",
    "\n",
    "The dataset is comprehensive which contains listings on Airbnb in New York, details of the hosts, the locations, property types, prices, service fees, reviews and others."
   ]
  },
  {
   "cell_type": "markdown",
   "id": "e80da26e",
   "metadata": {
    "papermill": {
     "duration": 0.008243,
     "end_time": "2023-11-03T04:06:31.158043",
     "exception": false,
     "start_time": "2023-11-03T04:06:31.149800",
     "status": "completed"
    },
    "tags": []
   },
   "source": [
    "***\n",
    "\n",
    "## Importing Necessary Libraries\n",
    "\n",
    "It is important for us to import necessary libraries as below."
   ]
  },
  {
   "cell_type": "code",
   "execution_count": 2,
   "id": "0639b32e",
   "metadata": {
    "execution": {
     "iopub.execute_input": "2023-11-03T04:06:31.177576Z",
     "iopub.status.busy": "2023-11-03T04:06:31.176923Z",
     "iopub.status.idle": "2023-11-03T04:06:32.830609Z",
     "shell.execute_reply": "2023-11-03T04:06:32.829251Z"
    },
    "papermill": {
     "duration": 1.666415,
     "end_time": "2023-11-03T04:06:32.833151",
     "exception": false,
     "start_time": "2023-11-03T04:06:31.166736",
     "status": "completed"
    },
    "tags": []
   },
   "outputs": [],
   "source": [
    "import pandas as pd\n",
    "import numpy as np\n",
    "import seaborn as sns\n",
    "import matplotlib.pyplot as plt\n",
    "%matplotlib inline"
   ]
  },
  {
   "cell_type": "markdown",
   "id": "8f8e2133",
   "metadata": {
    "papermill": {
     "duration": 0.008254,
     "end_time": "2023-11-03T04:06:32.850049",
     "exception": false,
     "start_time": "2023-11-03T04:06:32.841795",
     "status": "completed"
    },
    "tags": []
   },
   "source": [
    "***\n",
    "\n",
    "## Data Preprocessing\n",
    "\n",
    "First, we will be loading the dataset before performing data preprocessing."
   ]
  },
  {
   "cell_type": "code",
   "execution_count": 5,
   "id": "a6502f57",
   "metadata": {
    "execution": {
     "iopub.execute_input": "2023-11-03T04:06:32.868905Z",
     "iopub.status.busy": "2023-11-03T04:06:32.868379Z",
     "iopub.status.idle": "2023-11-03T04:06:33.896393Z",
     "shell.execute_reply": "2023-11-03T04:06:33.895431Z"
    },
    "papermill": {
     "duration": 1.040838,
     "end_time": "2023-11-03T04:06:33.899359",
     "exception": false,
     "start_time": "2023-11-03T04:06:32.858521",
     "status": "completed"
    },
    "tags": []
   },
   "outputs": [
    {
     "data": {
      "text/html": [
       "<div>\n",
       "<style scoped>\n",
       "    .dataframe tbody tr th:only-of-type {\n",
       "        vertical-align: middle;\n",
       "    }\n",
       "\n",
       "    .dataframe tbody tr th {\n",
       "        vertical-align: top;\n",
       "    }\n",
       "\n",
       "    .dataframe thead th {\n",
       "        text-align: right;\n",
       "    }\n",
       "</style>\n",
       "<table border=\"1\" class=\"dataframe\">\n",
       "  <thead>\n",
       "    <tr style=\"text-align: right;\">\n",
       "      <th></th>\n",
       "      <th>id</th>\n",
       "      <th>NAME</th>\n",
       "      <th>host id</th>\n",
       "      <th>host_identity_verified</th>\n",
       "      <th>host name</th>\n",
       "      <th>neighbourhood group</th>\n",
       "      <th>neighbourhood</th>\n",
       "      <th>lat</th>\n",
       "      <th>long</th>\n",
       "      <th>country</th>\n",
       "      <th>...</th>\n",
       "      <th>service fee</th>\n",
       "      <th>minimum nights</th>\n",
       "      <th>number of reviews</th>\n",
       "      <th>last review</th>\n",
       "      <th>reviews per month</th>\n",
       "      <th>review rate number</th>\n",
       "      <th>calculated host listings count</th>\n",
       "      <th>availability 365</th>\n",
       "      <th>house_rules</th>\n",
       "      <th>license</th>\n",
       "    </tr>\n",
       "  </thead>\n",
       "  <tbody>\n",
       "    <tr>\n",
       "      <th>0</th>\n",
       "      <td>1001254</td>\n",
       "      <td>Clean &amp; quiet apt home by the park</td>\n",
       "      <td>80014485718</td>\n",
       "      <td>unconfirmed</td>\n",
       "      <td>Madaline</td>\n",
       "      <td>Brooklyn</td>\n",
       "      <td>Kensington</td>\n",
       "      <td>40.64749</td>\n",
       "      <td>-73.97237</td>\n",
       "      <td>United States</td>\n",
       "      <td>...</td>\n",
       "      <td>$193</td>\n",
       "      <td>10.0</td>\n",
       "      <td>9.0</td>\n",
       "      <td>10/19/2021</td>\n",
       "      <td>0.21</td>\n",
       "      <td>4.0</td>\n",
       "      <td>6.0</td>\n",
       "      <td>286.0</td>\n",
       "      <td>Clean up and treat the home the way you'd like...</td>\n",
       "      <td>NaN</td>\n",
       "    </tr>\n",
       "    <tr>\n",
       "      <th>1</th>\n",
       "      <td>1002102</td>\n",
       "      <td>Skylit Midtown Castle</td>\n",
       "      <td>52335172823</td>\n",
       "      <td>verified</td>\n",
       "      <td>Jenna</td>\n",
       "      <td>Manhattan</td>\n",
       "      <td>Midtown</td>\n",
       "      <td>40.75362</td>\n",
       "      <td>-73.98377</td>\n",
       "      <td>United States</td>\n",
       "      <td>...</td>\n",
       "      <td>$28</td>\n",
       "      <td>30.0</td>\n",
       "      <td>45.0</td>\n",
       "      <td>5/21/2022</td>\n",
       "      <td>0.38</td>\n",
       "      <td>4.0</td>\n",
       "      <td>2.0</td>\n",
       "      <td>228.0</td>\n",
       "      <td>Pet friendly but please confirm with me if the...</td>\n",
       "      <td>NaN</td>\n",
       "    </tr>\n",
       "    <tr>\n",
       "      <th>2</th>\n",
       "      <td>1002403</td>\n",
       "      <td>THE VILLAGE OF HARLEM....NEW YORK !</td>\n",
       "      <td>78829239556</td>\n",
       "      <td>NaN</td>\n",
       "      <td>Elise</td>\n",
       "      <td>Manhattan</td>\n",
       "      <td>Harlem</td>\n",
       "      <td>40.80902</td>\n",
       "      <td>-73.94190</td>\n",
       "      <td>United States</td>\n",
       "      <td>...</td>\n",
       "      <td>$124</td>\n",
       "      <td>3.0</td>\n",
       "      <td>0.0</td>\n",
       "      <td>NaN</td>\n",
       "      <td>NaN</td>\n",
       "      <td>5.0</td>\n",
       "      <td>1.0</td>\n",
       "      <td>352.0</td>\n",
       "      <td>I encourage you to use my kitchen, cooking and...</td>\n",
       "      <td>NaN</td>\n",
       "    </tr>\n",
       "    <tr>\n",
       "      <th>3</th>\n",
       "      <td>1002755</td>\n",
       "      <td>NaN</td>\n",
       "      <td>85098326012</td>\n",
       "      <td>unconfirmed</td>\n",
       "      <td>Garry</td>\n",
       "      <td>Brooklyn</td>\n",
       "      <td>Clinton Hill</td>\n",
       "      <td>40.68514</td>\n",
       "      <td>-73.95976</td>\n",
       "      <td>United States</td>\n",
       "      <td>...</td>\n",
       "      <td>$74</td>\n",
       "      <td>30.0</td>\n",
       "      <td>270.0</td>\n",
       "      <td>7/5/2019</td>\n",
       "      <td>4.64</td>\n",
       "      <td>4.0</td>\n",
       "      <td>1.0</td>\n",
       "      <td>322.0</td>\n",
       "      <td>NaN</td>\n",
       "      <td>NaN</td>\n",
       "    </tr>\n",
       "    <tr>\n",
       "      <th>4</th>\n",
       "      <td>1003689</td>\n",
       "      <td>Entire Apt: Spacious Studio/Loft by central park</td>\n",
       "      <td>92037596077</td>\n",
       "      <td>verified</td>\n",
       "      <td>Lyndon</td>\n",
       "      <td>Manhattan</td>\n",
       "      <td>East Harlem</td>\n",
       "      <td>40.79851</td>\n",
       "      <td>-73.94399</td>\n",
       "      <td>United States</td>\n",
       "      <td>...</td>\n",
       "      <td>$41</td>\n",
       "      <td>10.0</td>\n",
       "      <td>9.0</td>\n",
       "      <td>11/19/2018</td>\n",
       "      <td>0.10</td>\n",
       "      <td>3.0</td>\n",
       "      <td>1.0</td>\n",
       "      <td>289.0</td>\n",
       "      <td>Please no smoking in the house, porch or on th...</td>\n",
       "      <td>NaN</td>\n",
       "    </tr>\n",
       "  </tbody>\n",
       "</table>\n",
       "<p>5 rows × 26 columns</p>\n",
       "</div>"
      ],
      "text/plain": [
       "        id                                              NAME      host id  \\\n",
       "0  1001254                Clean & quiet apt home by the park  80014485718   \n",
       "1  1002102                             Skylit Midtown Castle  52335172823   \n",
       "2  1002403               THE VILLAGE OF HARLEM....NEW YORK !  78829239556   \n",
       "3  1002755                                               NaN  85098326012   \n",
       "4  1003689  Entire Apt: Spacious Studio/Loft by central park  92037596077   \n",
       "\n",
       "  host_identity_verified host name neighbourhood group neighbourhood  \\\n",
       "0            unconfirmed  Madaline            Brooklyn    Kensington   \n",
       "1               verified     Jenna           Manhattan       Midtown   \n",
       "2                    NaN     Elise           Manhattan        Harlem   \n",
       "3            unconfirmed     Garry            Brooklyn  Clinton Hill   \n",
       "4               verified    Lyndon           Manhattan   East Harlem   \n",
       "\n",
       "        lat      long        country  ... service fee minimum nights  \\\n",
       "0  40.64749 -73.97237  United States  ...       $193            10.0   \n",
       "1  40.75362 -73.98377  United States  ...        $28            30.0   \n",
       "2  40.80902 -73.94190  United States  ...       $124             3.0   \n",
       "3  40.68514 -73.95976  United States  ...        $74            30.0   \n",
       "4  40.79851 -73.94399  United States  ...        $41            10.0   \n",
       "\n",
       "  number of reviews last review  reviews per month review rate number  \\\n",
       "0               9.0  10/19/2021               0.21                4.0   \n",
       "1              45.0   5/21/2022               0.38                4.0   \n",
       "2               0.0         NaN                NaN                5.0   \n",
       "3             270.0    7/5/2019               4.64                4.0   \n",
       "4               9.0  11/19/2018               0.10                3.0   \n",
       "\n",
       "  calculated host listings count  availability 365  \\\n",
       "0                            6.0             286.0   \n",
       "1                            2.0             228.0   \n",
       "2                            1.0             352.0   \n",
       "3                            1.0             322.0   \n",
       "4                            1.0             289.0   \n",
       "\n",
       "                                         house_rules license  \n",
       "0  Clean up and treat the home the way you'd like...     NaN  \n",
       "1  Pet friendly but please confirm with me if the...     NaN  \n",
       "2  I encourage you to use my kitchen, cooking and...     NaN  \n",
       "3                                                NaN     NaN  \n",
       "4  Please no smoking in the house, porch or on th...     NaN  \n",
       "\n",
       "[5 rows x 26 columns]"
      ]
     },
     "execution_count": 5,
     "metadata": {},
     "output_type": "execute_result"
    }
   ],
   "source": [
    "data = pd.read_csv('../Desktop/Airbnb_Open_Data.csv',low_memory=False)\n",
    "data.head()"
   ]
  },
  {
   "cell_type": "markdown",
   "id": "5e58b63e",
   "metadata": {
    "papermill": {
     "duration": 0.008167,
     "end_time": "2023-11-03T04:06:33.916239",
     "exception": false,
     "start_time": "2023-11-03T04:06:33.908072",
     "status": "completed"
    },
    "tags": []
   },
   "source": [
    "Now, we wish to explore the number of rows and columns of the data."
   ]
  },
  {
   "cell_type": "code",
   "execution_count": 3,
   "id": "b54facc0",
   "metadata": {
    "execution": {
     "iopub.execute_input": "2023-11-03T04:06:33.934890Z",
     "iopub.status.busy": "2023-11-03T04:06:33.934591Z",
     "iopub.status.idle": "2023-11-03T04:06:33.941112Z",
     "shell.execute_reply": "2023-11-03T04:06:33.940020Z"
    },
    "papermill": {
     "duration": 0.019083,
     "end_time": "2023-11-03T04:06:33.943785",
     "exception": false,
     "start_time": "2023-11-03T04:06:33.924702",
     "status": "completed"
    },
    "tags": []
   },
   "outputs": [
    {
     "data": {
      "text/plain": [
       "(102599, 26)"
      ]
     },
     "execution_count": 3,
     "metadata": {},
     "output_type": "execute_result"
    }
   ],
   "source": [
    "data.shape"
   ]
  },
  {
   "cell_type": "markdown",
   "id": "4ef6a2e7",
   "metadata": {
    "papermill": {
     "duration": 0.008202,
     "end_time": "2023-11-03T04:06:33.961193",
     "exception": false,
     "start_time": "2023-11-03T04:06:33.952991",
     "status": "completed"
    },
    "tags": []
   },
   "source": [
    "There are 102599 rows and 26 columns in the dataset. Next, we want to check for missing values or invalid data in the dataset."
   ]
  },
  {
   "cell_type": "code",
   "execution_count": 4,
   "id": "aee0bd0d",
   "metadata": {
    "execution": {
     "iopub.execute_input": "2023-11-03T04:06:33.980085Z",
     "iopub.status.busy": "2023-11-03T04:06:33.979731Z",
     "iopub.status.idle": "2023-11-03T04:06:34.053806Z",
     "shell.execute_reply": "2023-11-03T04:06:34.052112Z"
    },
    "papermill": {
     "duration": 0.087559,
     "end_time": "2023-11-03T04:06:34.057256",
     "exception": false,
     "start_time": "2023-11-03T04:06:33.969697",
     "status": "completed"
    },
    "tags": []
   },
   "outputs": [
    {
     "name": "stdout",
     "output_type": "stream",
     "text": [
      "<class 'pandas.core.frame.DataFrame'>\n",
      "RangeIndex: 102599 entries, 0 to 102598\n",
      "Data columns (total 26 columns):\n",
      " #   Column                          Non-Null Count   Dtype  \n",
      "---  ------                          --------------   -----  \n",
      " 0   id                              102599 non-null  int64  \n",
      " 1   NAME                            102349 non-null  object \n",
      " 2   host id                         102599 non-null  int64  \n",
      " 3   host_identity_verified          102310 non-null  object \n",
      " 4   host name                       102193 non-null  object \n",
      " 5   neighbourhood group             102570 non-null  object \n",
      " 6   neighbourhood                   102583 non-null  object \n",
      " 7   lat                             102591 non-null  float64\n",
      " 8   long                            102591 non-null  float64\n",
      " 9   country                         102067 non-null  object \n",
      " 10  country code                    102468 non-null  object \n",
      " 11  instant_bookable                102494 non-null  object \n",
      " 12  cancellation_policy             102523 non-null  object \n",
      " 13  room type                       102599 non-null  object \n",
      " 14  Construction year               102385 non-null  float64\n",
      " 15  price                           102352 non-null  object \n",
      " 16  service fee                     102326 non-null  object \n",
      " 17  minimum nights                  102190 non-null  float64\n",
      " 18  number of reviews               102416 non-null  float64\n",
      " 19  last review                     86706 non-null   object \n",
      " 20  reviews per month               86720 non-null   float64\n",
      " 21  review rate number              102273 non-null  float64\n",
      " 22  calculated host listings count  102280 non-null  float64\n",
      " 23  availability 365                102151 non-null  float64\n",
      " 24  house_rules                     50468 non-null   object \n",
      " 25  license                         2 non-null       object \n",
      "dtypes: float64(9), int64(2), object(15)\n",
      "memory usage: 20.4+ MB\n"
     ]
    }
   ],
   "source": [
    "data.info()"
   ]
  },
  {
   "cell_type": "markdown",
   "id": "d8c10a8a",
   "metadata": {
    "papermill": {
     "duration": 0.009062,
     "end_time": "2023-11-03T04:06:34.075915",
     "exception": false,
     "start_time": "2023-11-03T04:06:34.066853",
     "status": "completed"
    },
    "tags": []
   },
   "source": [
    "The output above lists all the columns in the dataset, the non-null count and the type of data for each columns. We can check the number of null values using `df.isnull().sum()` function."
   ]
  },
  {
   "cell_type": "code",
   "execution_count": 5,
   "id": "d0b716d9",
   "metadata": {
    "execution": {
     "iopub.execute_input": "2023-11-03T04:06:34.096711Z",
     "iopub.status.busy": "2023-11-03T04:06:34.096268Z",
     "iopub.status.idle": "2023-11-03T04:06:34.151288Z",
     "shell.execute_reply": "2023-11-03T04:06:34.149853Z"
    },
    "papermill": {
     "duration": 0.068186,
     "end_time": "2023-11-03T04:06:34.153586",
     "exception": false,
     "start_time": "2023-11-03T04:06:34.085400",
     "status": "completed"
    },
    "tags": []
   },
   "outputs": [
    {
     "data": {
      "text/plain": [
       "id                                     0\n",
       "NAME                                 250\n",
       "host id                                0\n",
       "host_identity_verified               289\n",
       "host name                            406\n",
       "neighbourhood group                   29\n",
       "neighbourhood                         16\n",
       "lat                                    8\n",
       "long                                   8\n",
       "country                              532\n",
       "country code                         131\n",
       "instant_bookable                     105\n",
       "cancellation_policy                   76\n",
       "room type                              0\n",
       "Construction year                    214\n",
       "price                                247\n",
       "service fee                          273\n",
       "minimum nights                       409\n",
       "number of reviews                    183\n",
       "last review                        15893\n",
       "reviews per month                  15879\n",
       "review rate number                   326\n",
       "calculated host listings count       319\n",
       "availability 365                     448\n",
       "house_rules                        52131\n",
       "license                           102597\n",
       "dtype: int64"
      ]
     },
     "execution_count": 5,
     "metadata": {},
     "output_type": "execute_result"
    }
   ],
   "source": [
    "data.isnull().sum()"
   ]
  },
  {
   "cell_type": "markdown",
   "id": "ec7feab2",
   "metadata": {
    "papermill": {
     "duration": 0.009729,
     "end_time": "2023-11-03T04:06:34.172777",
     "exception": false,
     "start_time": "2023-11-03T04:06:34.163048",
     "status": "completed"
    },
    "tags": []
   },
   "source": [
    "There are four columns with more than 10000 missing values, namely `last review`, `reviews per month`, `house_rules` and `license`. We decide to drop `last review`, `reviews per month` and`license` since we will not need it in the analysis and the number of missing values is too much. \n",
    "\n",
    "We will also drop `country` and `country code` since there is just one country in this dataset, namely United States. Since we have `host id`, we can drop `host name` since it serves the same purpose.\n",
    "\n",
    "Also, null values in the `house_rules` columns are filled with `\"Not stated.\"`. Then, we drop the rows which contains any null values in them."
   ]
  },
  {
   "cell_type": "code",
   "execution_count": 6,
   "id": "65d7ed62",
   "metadata": {
    "execution": {
     "iopub.execute_input": "2023-11-03T04:06:34.192558Z",
     "iopub.status.busy": "2023-11-03T04:06:34.191982Z",
     "iopub.status.idle": "2023-11-03T04:06:34.271747Z",
     "shell.execute_reply": "2023-11-03T04:06:34.270465Z"
    },
    "papermill": {
     "duration": 0.091929,
     "end_time": "2023-11-03T04:06:34.273701",
     "exception": false,
     "start_time": "2023-11-03T04:06:34.181772",
     "status": "completed"
    },
    "tags": []
   },
   "outputs": [
    {
     "data": {
      "text/plain": [
       "(99886, 20)"
      ]
     },
     "execution_count": 6,
     "metadata": {},
     "output_type": "execute_result"
    }
   ],
   "source": [
    "data.drop(columns=[\"host name\",\"license\",\"last review\",\"reviews per month\",\"country\",\"country code\"], axis = 1, inplace = True)\n",
    "data[\"house_rules\"].fillna(\"Not stated.\", inplace = True)\n",
    "data.dropna(axis = 0, how = \"any\", inplace = True, ignore_index = True)\n",
    "data.shape"
   ]
  },
  {
   "cell_type": "markdown",
   "id": "a0cef99b",
   "metadata": {
    "papermill": {
     "duration": 0.008855,
     "end_time": "2023-11-03T04:06:34.291834",
     "exception": false,
     "start_time": "2023-11-03T04:06:34.282979",
     "status": "completed"
    },
    "tags": []
   },
   "source": [
    "After dropping the rows with null values, there are 99886 rows left. We would also like to drop any duplicated rows which are present in the dataset by using `drop_duplicates()` function."
   ]
  },
  {
   "cell_type": "code",
   "execution_count": 7,
   "id": "a286add0",
   "metadata": {
    "execution": {
     "iopub.execute_input": "2023-11-03T04:06:34.311570Z",
     "iopub.status.busy": "2023-11-03T04:06:34.311128Z",
     "iopub.status.idle": "2023-11-03T04:06:34.474197Z",
     "shell.execute_reply": "2023-11-03T04:06:34.472915Z"
    },
    "papermill": {
     "duration": 0.17621,
     "end_time": "2023-11-03T04:06:34.476941",
     "exception": false,
     "start_time": "2023-11-03T04:06:34.300731",
     "status": "completed"
    },
    "tags": []
   },
   "outputs": [
    {
     "data": {
      "text/plain": [
       "(99361, 20)"
      ]
     },
     "execution_count": 7,
     "metadata": {},
     "output_type": "execute_result"
    }
   ],
   "source": [
    "data.drop_duplicates(keep = 'first', inplace = True, ignore_index = True)\n",
    "data.shape"
   ]
  },
  {
   "cell_type": "markdown",
   "id": "81b06448",
   "metadata": {
    "papermill": {
     "duration": 0.008917,
     "end_time": "2023-11-03T04:06:34.543892",
     "exception": false,
     "start_time": "2023-11-03T04:06:34.534975",
     "status": "completed"
    },
    "tags": []
   },
   "source": [
    "There are 99361 rows remaining, which we have successfully dropped 525 duplicated rows in the dataset!"
   ]
  },
  {
   "cell_type": "code",
   "execution_count": 8,
   "id": "9291b027",
   "metadata": {
    "execution": {
     "iopub.execute_input": "2023-11-03T04:06:34.563673Z",
     "iopub.status.busy": "2023-11-03T04:06:34.563320Z",
     "iopub.status.idle": "2023-11-03T04:06:34.605485Z",
     "shell.execute_reply": "2023-11-03T04:06:34.604690Z"
    },
    "papermill": {
     "duration": 0.054578,
     "end_time": "2023-11-03T04:06:34.607530",
     "exception": false,
     "start_time": "2023-11-03T04:06:34.552952",
     "status": "completed"
    },
    "tags": []
   },
   "outputs": [
    {
     "name": "stdout",
     "output_type": "stream",
     "text": [
      "<class 'pandas.core.frame.DataFrame'>\n",
      "RangeIndex: 99361 entries, 0 to 99360\n",
      "Data columns (total 20 columns):\n",
      " #   Column                          Non-Null Count  Dtype  \n",
      "---  ------                          --------------  -----  \n",
      " 0   id                              99361 non-null  int64  \n",
      " 1   NAME                            99361 non-null  object \n",
      " 2   host id                         99361 non-null  int64  \n",
      " 3   host_identity_verified          99361 non-null  object \n",
      " 4   neighbourhood group             99361 non-null  object \n",
      " 5   neighbourhood                   99361 non-null  object \n",
      " 6   lat                             99361 non-null  float64\n",
      " 7   long                            99361 non-null  float64\n",
      " 8   instant_bookable                99361 non-null  object \n",
      " 9   cancellation_policy             99361 non-null  object \n",
      " 10  room type                       99361 non-null  object \n",
      " 11  Construction year               99361 non-null  float64\n",
      " 12  price                           99361 non-null  object \n",
      " 13  service fee                     99361 non-null  object \n",
      " 14  minimum nights                  99361 non-null  float64\n",
      " 15  number of reviews               99361 non-null  float64\n",
      " 16  review rate number              99361 non-null  float64\n",
      " 17  calculated host listings count  99361 non-null  float64\n",
      " 18  availability 365                99361 non-null  float64\n",
      " 19  house_rules                     99361 non-null  object \n",
      "dtypes: float64(8), int64(2), object(10)\n",
      "memory usage: 15.2+ MB\n"
     ]
    }
   ],
   "source": [
    "data.info()"
   ]
  },
  {
   "cell_type": "markdown",
   "id": "acfd4c14",
   "metadata": {
    "papermill": {
     "duration": 0.008732,
     "end_time": "2023-11-03T04:06:34.625752",
     "exception": false,
     "start_time": "2023-11-03T04:06:34.617020",
     "status": "completed"
    },
    "tags": []
   },
   "source": [
    "Upon further investigation, the Dtype for price and service fee should be a numeric type instead of object. The reason is because the entries in these two columns are in the form of `$X,XXX` which is a string. We will fix the formats of these columns using the following codes. \n",
    "\n",
    "Also, the construction year, minimum nights, number of reviews, review rate number, calculated host listings count and availability 365  should be integer instead of float.\n",
    "\n",
    "Next, instant_bookable column should be a boolean type since there are just two possible values which are True or False."
   ]
  },
  {
   "cell_type": "code",
   "execution_count": 9,
   "id": "240f69aa",
   "metadata": {
    "execution": {
     "iopub.execute_input": "2023-11-03T04:06:34.645514Z",
     "iopub.status.busy": "2023-11-03T04:06:34.645153Z",
     "iopub.status.idle": "2023-11-03T04:06:36.437003Z",
     "shell.execute_reply": "2023-11-03T04:06:36.435821Z"
    },
    "papermill": {
     "duration": 1.804781,
     "end_time": "2023-11-03T04:06:36.439624",
     "exception": false,
     "start_time": "2023-11-03T04:06:34.634843",
     "status": "completed"
    },
    "tags": []
   },
   "outputs": [],
   "source": [
    "price=data['price'].str[1:] # remove the symbol $\n",
    "price=price.str.strip() # trim whitespace\n",
    "\n",
    "for i in range(len(price)):\n",
    "    price[i]=price[i].replace(\",\",\"\") # remove the symbol ,\n",
    "    \n",
    "svc=data['service fee'].str[1:]\n",
    "svc=svc.str.strip()\n",
    "\n",
    "for i in range(len(svc)):\n",
    "    svc[i]=svc[i].replace(\",\",\"\")"
   ]
  },
  {
   "cell_type": "code",
   "execution_count": 10,
   "id": "1b21cdd3",
   "metadata": {
    "execution": {
     "iopub.execute_input": "2023-11-03T04:06:36.462603Z",
     "iopub.status.busy": "2023-11-03T04:06:36.462204Z",
     "iopub.status.idle": "2023-11-03T04:06:36.576920Z",
     "shell.execute_reply": "2023-11-03T04:06:36.575992Z"
    },
    "papermill": {
     "duration": 0.129891,
     "end_time": "2023-11-03T04:06:36.579886",
     "exception": false,
     "start_time": "2023-11-03T04:06:36.449995",
     "status": "completed"
    },
    "tags": []
   },
   "outputs": [],
   "source": [
    "data.drop(columns=[\"price\", \"service fee\"], axis = 1, inplace = True)\n",
    "data[\"price\"] = price\n",
    "data[\"service fee\"] = svc\n",
    "\n",
    "data[\"price\"] = pd.to_numeric(data[\"price\"])\n",
    "data[\"service fee\"] = pd.to_numeric(data[\"service fee\"])\n",
    "\n",
    "data[\"Construction year\"] = data[\"Construction year\"].astype(int)\n",
    "data[\"minimum nights\"] = data[\"minimum nights\"].astype(int)\n",
    "data[\"number of reviews\"] = data[\"number of reviews\"].astype(int)\n",
    "data[\"review rate number\"] = data[\"review rate number\"].astype(int)\n",
    "data[\"calculated host listings count\"] = data[\"calculated host listings count\"].astype(int)\n",
    "data[\"availability 365\"] = data[\"availability 365\"].astype(int)\n",
    "\n",
    "data[\"instant_bookable\"] = data[\"instant_bookable\"].astype(bool)"
   ]
  },
  {
   "cell_type": "code",
   "execution_count": 11,
   "id": "c146ed06",
   "metadata": {
    "execution": {
     "iopub.execute_input": "2023-11-03T04:06:36.600568Z",
     "iopub.status.busy": "2023-11-03T04:06:36.600218Z",
     "iopub.status.idle": "2023-11-03T04:06:36.617027Z",
     "shell.execute_reply": "2023-11-03T04:06:36.615442Z"
    },
    "papermill": {
     "duration": 0.030038,
     "end_time": "2023-11-03T04:06:36.619627",
     "exception": false,
     "start_time": "2023-11-03T04:06:36.589589",
     "status": "completed"
    },
    "tags": []
   },
   "outputs": [
    {
     "data": {
      "text/plain": [
       "neighbourhood group\n",
       "Bronx             2615\n",
       "Brooklyn         40543\n",
       "Manhattan        42402\n",
       "Queens           12873\n",
       "Staten Island      927\n",
       "brookln              1\n",
       "Name: count, dtype: int64"
      ]
     },
     "execution_count": 11,
     "metadata": {},
     "output_type": "execute_result"
    }
   ],
   "source": [
    "data[\"neighbourhood group\"].value_counts().sort_index()"
   ]
  },
  {
   "cell_type": "markdown",
   "id": "ae2110c3",
   "metadata": {
    "papermill": {
     "duration": 0.010413,
     "end_time": "2023-11-03T04:06:36.641101",
     "exception": false,
     "start_time": "2023-11-03T04:06:36.630688",
     "status": "completed"
    },
    "tags": []
   },
   "source": [
    "Notice that there is one typo present in the column of neighbourhood group, where Brooklyn is misspelled as brookln. This typo will be fixed."
   ]
  },
  {
   "cell_type": "code",
   "execution_count": 12,
   "id": "14273d6d",
   "metadata": {
    "execution": {
     "iopub.execute_input": "2023-11-03T04:06:36.663771Z",
     "iopub.status.busy": "2023-11-03T04:06:36.663355Z",
     "iopub.status.idle": "2023-11-03T04:06:36.706011Z",
     "shell.execute_reply": "2023-11-03T04:06:36.704865Z"
    },
    "papermill": {
     "duration": 0.056108,
     "end_time": "2023-11-03T04:06:36.708393",
     "exception": false,
     "start_time": "2023-11-03T04:06:36.652285",
     "status": "completed"
    },
    "tags": []
   },
   "outputs": [],
   "source": [
    "data.replace(to_replace='brookln', value='Brooklyn',inplace=True)"
   ]
  },
  {
   "cell_type": "markdown",
   "id": "54aac677",
   "metadata": {
    "papermill": {
     "duration": 0.009154,
     "end_time": "2023-11-03T04:06:36.727487",
     "exception": false,
     "start_time": "2023-11-03T04:06:36.718333",
     "status": "completed"
    },
    "tags": []
   },
   "source": [
    "Also, the minimum nights (minimum number of night stay for the listing) must be greater than 0. We also want to focus on listings with a shorter period of stay, we limit the minimum nights to 365 (which is still considered a long period of stay). We will filter the dataset to remove any illogical samples."
   ]
  },
  {
   "cell_type": "code",
   "execution_count": 13,
   "id": "bfe56197",
   "metadata": {
    "execution": {
     "iopub.execute_input": "2023-11-03T04:06:36.747972Z",
     "iopub.status.busy": "2023-11-03T04:06:36.747602Z",
     "iopub.status.idle": "2023-11-03T04:06:36.775884Z",
     "shell.execute_reply": "2023-11-03T04:06:36.774729Z"
    },
    "papermill": {
     "duration": 0.041561,
     "end_time": "2023-11-03T04:06:36.778339",
     "exception": false,
     "start_time": "2023-11-03T04:06:36.736778",
     "status": "completed"
    },
    "tags": []
   },
   "outputs": [],
   "source": [
    "data = data[(data[\"minimum nights\"]>0) & (data[\"minimum nights\"]<=365)]"
   ]
  },
  {
   "cell_type": "code",
   "execution_count": 14,
   "id": "7dd71c11",
   "metadata": {
    "execution": {
     "iopub.execute_input": "2023-11-03T04:06:36.800749Z",
     "iopub.status.busy": "2023-11-03T04:06:36.800398Z",
     "iopub.status.idle": "2023-11-03T04:06:36.816317Z",
     "shell.execute_reply": "2023-11-03T04:06:36.815702Z"
    },
    "papermill": {
     "duration": 0.029489,
     "end_time": "2023-11-03T04:06:36.818233",
     "exception": false,
     "start_time": "2023-11-03T04:06:36.788744",
     "status": "completed"
    },
    "tags": []
   },
   "outputs": [
    {
     "data": {
      "text/html": [
       "<div>\n",
       "<style scoped>\n",
       "    .dataframe tbody tr th:only-of-type {\n",
       "        vertical-align: middle;\n",
       "    }\n",
       "\n",
       "    .dataframe tbody tr th {\n",
       "        vertical-align: top;\n",
       "    }\n",
       "\n",
       "    .dataframe thead th {\n",
       "        text-align: right;\n",
       "    }\n",
       "</style>\n",
       "<table border=\"1\" class=\"dataframe\">\n",
       "  <thead>\n",
       "    <tr style=\"text-align: right;\">\n",
       "      <th></th>\n",
       "      <th>id</th>\n",
       "      <th>NAME</th>\n",
       "      <th>host id</th>\n",
       "      <th>host_identity_verified</th>\n",
       "      <th>neighbourhood group</th>\n",
       "      <th>neighbourhood</th>\n",
       "      <th>lat</th>\n",
       "      <th>long</th>\n",
       "      <th>instant_bookable</th>\n",
       "      <th>cancellation_policy</th>\n",
       "      <th>room type</th>\n",
       "      <th>Construction year</th>\n",
       "      <th>minimum nights</th>\n",
       "      <th>number of reviews</th>\n",
       "      <th>review rate number</th>\n",
       "      <th>calculated host listings count</th>\n",
       "      <th>availability 365</th>\n",
       "      <th>house_rules</th>\n",
       "      <th>price</th>\n",
       "      <th>service fee</th>\n",
       "    </tr>\n",
       "  </thead>\n",
       "  <tbody>\n",
       "    <tr>\n",
       "      <th>0</th>\n",
       "      <td>1001254</td>\n",
       "      <td>Clean &amp; quiet apt home by the park</td>\n",
       "      <td>80014485718</td>\n",
       "      <td>unconfirmed</td>\n",
       "      <td>Brooklyn</td>\n",
       "      <td>Kensington</td>\n",
       "      <td>40.64749</td>\n",
       "      <td>-73.97237</td>\n",
       "      <td>False</td>\n",
       "      <td>strict</td>\n",
       "      <td>Private room</td>\n",
       "      <td>2020</td>\n",
       "      <td>10</td>\n",
       "      <td>9</td>\n",
       "      <td>4</td>\n",
       "      <td>6</td>\n",
       "      <td>286</td>\n",
       "      <td>Clean up and treat the home the way you'd like...</td>\n",
       "      <td>966</td>\n",
       "      <td>193</td>\n",
       "    </tr>\n",
       "    <tr>\n",
       "      <th>1</th>\n",
       "      <td>1002102</td>\n",
       "      <td>Skylit Midtown Castle</td>\n",
       "      <td>52335172823</td>\n",
       "      <td>verified</td>\n",
       "      <td>Manhattan</td>\n",
       "      <td>Midtown</td>\n",
       "      <td>40.75362</td>\n",
       "      <td>-73.98377</td>\n",
       "      <td>False</td>\n",
       "      <td>moderate</td>\n",
       "      <td>Entire home/apt</td>\n",
       "      <td>2007</td>\n",
       "      <td>30</td>\n",
       "      <td>45</td>\n",
       "      <td>4</td>\n",
       "      <td>2</td>\n",
       "      <td>228</td>\n",
       "      <td>Pet friendly but please confirm with me if the...</td>\n",
       "      <td>142</td>\n",
       "      <td>28</td>\n",
       "    </tr>\n",
       "    <tr>\n",
       "      <th>2</th>\n",
       "      <td>1003689</td>\n",
       "      <td>Entire Apt: Spacious Studio/Loft by central park</td>\n",
       "      <td>92037596077</td>\n",
       "      <td>verified</td>\n",
       "      <td>Manhattan</td>\n",
       "      <td>East Harlem</td>\n",
       "      <td>40.79851</td>\n",
       "      <td>-73.94399</td>\n",
       "      <td>False</td>\n",
       "      <td>moderate</td>\n",
       "      <td>Entire home/apt</td>\n",
       "      <td>2009</td>\n",
       "      <td>10</td>\n",
       "      <td>9</td>\n",
       "      <td>3</td>\n",
       "      <td>1</td>\n",
       "      <td>289</td>\n",
       "      <td>Please no smoking in the house, porch or on th...</td>\n",
       "      <td>204</td>\n",
       "      <td>41</td>\n",
       "    </tr>\n",
       "    <tr>\n",
       "      <th>3</th>\n",
       "      <td>1004098</td>\n",
       "      <td>Large Cozy 1 BR Apartment In Midtown East</td>\n",
       "      <td>45498551794</td>\n",
       "      <td>verified</td>\n",
       "      <td>Manhattan</td>\n",
       "      <td>Murray Hill</td>\n",
       "      <td>40.74767</td>\n",
       "      <td>-73.97500</td>\n",
       "      <td>True</td>\n",
       "      <td>flexible</td>\n",
       "      <td>Entire home/apt</td>\n",
       "      <td>2013</td>\n",
       "      <td>3</td>\n",
       "      <td>74</td>\n",
       "      <td>3</td>\n",
       "      <td>1</td>\n",
       "      <td>374</td>\n",
       "      <td>No smoking, please, and no drugs.</td>\n",
       "      <td>577</td>\n",
       "      <td>115</td>\n",
       "    </tr>\n",
       "    <tr>\n",
       "      <th>4</th>\n",
       "      <td>1005202</td>\n",
       "      <td>BlissArtsSpace!</td>\n",
       "      <td>90821839709</td>\n",
       "      <td>unconfirmed</td>\n",
       "      <td>Brooklyn</td>\n",
       "      <td>Bedford-Stuyvesant</td>\n",
       "      <td>40.68688</td>\n",
       "      <td>-73.95596</td>\n",
       "      <td>False</td>\n",
       "      <td>moderate</td>\n",
       "      <td>Private room</td>\n",
       "      <td>2009</td>\n",
       "      <td>45</td>\n",
       "      <td>49</td>\n",
       "      <td>5</td>\n",
       "      <td>1</td>\n",
       "      <td>219</td>\n",
       "      <td>House Guidelines for our BnB We are delighted ...</td>\n",
       "      <td>1060</td>\n",
       "      <td>212</td>\n",
       "    </tr>\n",
       "  </tbody>\n",
       "</table>\n",
       "</div>"
      ],
      "text/plain": [
       "        id                                              NAME      host id  \\\n",
       "0  1001254                Clean & quiet apt home by the park  80014485718   \n",
       "1  1002102                             Skylit Midtown Castle  52335172823   \n",
       "2  1003689  Entire Apt: Spacious Studio/Loft by central park  92037596077   \n",
       "3  1004098         Large Cozy 1 BR Apartment In Midtown East  45498551794   \n",
       "4  1005202                                   BlissArtsSpace!  90821839709   \n",
       "\n",
       "  host_identity_verified neighbourhood group       neighbourhood       lat  \\\n",
       "0            unconfirmed            Brooklyn          Kensington  40.64749   \n",
       "1               verified           Manhattan             Midtown  40.75362   \n",
       "2               verified           Manhattan         East Harlem  40.79851   \n",
       "3               verified           Manhattan         Murray Hill  40.74767   \n",
       "4            unconfirmed            Brooklyn  Bedford-Stuyvesant  40.68688   \n",
       "\n",
       "       long  instant_bookable cancellation_policy        room type  \\\n",
       "0 -73.97237             False              strict     Private room   \n",
       "1 -73.98377             False            moderate  Entire home/apt   \n",
       "2 -73.94399             False            moderate  Entire home/apt   \n",
       "3 -73.97500              True            flexible  Entire home/apt   \n",
       "4 -73.95596             False            moderate     Private room   \n",
       "\n",
       "   Construction year  minimum nights  number of reviews  review rate number  \\\n",
       "0               2020              10                  9                   4   \n",
       "1               2007              30                 45                   4   \n",
       "2               2009              10                  9                   3   \n",
       "3               2013               3                 74                   3   \n",
       "4               2009              45                 49                   5   \n",
       "\n",
       "   calculated host listings count  availability 365  \\\n",
       "0                               6               286   \n",
       "1                               2               228   \n",
       "2                               1               289   \n",
       "3                               1               374   \n",
       "4                               1               219   \n",
       "\n",
       "                                         house_rules  price  service fee  \n",
       "0  Clean up and treat the home the way you'd like...    966          193  \n",
       "1  Pet friendly but please confirm with me if the...    142           28  \n",
       "2  Please no smoking in the house, porch or on th...    204           41  \n",
       "3                  No smoking, please, and no drugs.    577          115  \n",
       "4  House Guidelines for our BnB We are delighted ...   1060          212  "
      ]
     },
     "execution_count": 14,
     "metadata": {},
     "output_type": "execute_result"
    }
   ],
   "source": [
    "data.head()"
   ]
  },
  {
   "cell_type": "markdown",
   "id": "51435822",
   "metadata": {
    "papermill": {
     "duration": 0.00926,
     "end_time": "2023-11-03T04:06:36.837488",
     "exception": false,
     "start_time": "2023-11-03T04:06:36.828228",
     "status": "completed"
    },
    "tags": []
   },
   "source": [
    "Now, the data is properly cleaned, and duplicate rows are removed.\n",
    "\n",
    "Removing duplicate values from the dataset enhances data quality, ensuring accuracy and reliability. This process streamlines data analysis, promotes better decision-making, and establishes a foundation for deriving meaningful insights."
   ]
  }
 ],
 "metadata": {
  "kernelspec": {
   "display_name": "Python 3 (ipykernel)",
   "language": "python",
   "name": "python3"
  },
  "language_info": {
   "codemirror_mode": {
    "name": "ipython",
    "version": 3
   },
   "file_extension": ".py",
   "mimetype": "text/x-python",
   "name": "python",
   "nbconvert_exporter": "python",
   "pygments_lexer": "ipython3",
   "version": "3.11.4"
  },
  "papermill": {
   "default_parameters": {},
   "duration": 12.424167,
   "end_time": "2023-11-03T04:06:40.764196",
   "environment_variables": {},
   "exception": null,
   "input_path": "__notebook__.ipynb",
   "output_path": "__notebook__.ipynb",
   "parameters": {},
   "start_time": "2023-11-03T04:06:28.340029",
   "version": "2.4.0"
  }
 },
 "nbformat": 4,
 "nbformat_minor": 5
}
